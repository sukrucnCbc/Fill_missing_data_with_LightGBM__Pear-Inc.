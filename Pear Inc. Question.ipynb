{
 "cells": [
  {
   "cell_type": "markdown",
   "metadata": {},
   "source": [
    "![image.png](pear.png)"
   ]
  },
  {
   "cell_type": "markdown",
   "metadata": {},
   "source": [
    "***"
   ]
  },
  {
   "cell_type": "markdown",
   "metadata": {},
   "source": [
    "# Welcome to Pear Inc. \n",
    "\n",
    "Hi there! \n",
    "My name is Robert! You can call me Bob 😉. <br>\n",
    "I'm the communications officer (fancy title ha!) in our glorious company 😇.\n",
    "My job is to help facilitate product development and market penetration 🤓. <br>\n",
    "I spent endless hours talking to engineers, product managers, and  customers 😱  \n",
    "\n",
    "Since we are a 20 people start-up (All of us have fancy names 😂), I also do some recruiting from time to time 💪 <br>\n",
    "We are looking for **brave souls who are not afraid of a challenge and will help us** with our new product line of smart t-shirts! 🧐 <br> \n",
    "\n",
    "(Our CEO believes that smart t-shirts are the right direction for some reason 😅 I guess if you make something nobody needs, you won't have to sell it 🤓) <br>\n",
    "\n",
    "Let me tell you a little bit more about our problem that you can help us with:<br>\n",
    "We are creating a life changing smart t-shirt which has bluetooth and connects to your phone 🥳. They will be customizable outfits through downloaded applications. Our smart t-shirt will be developed with Google Wear OS which is a version of Google's Android operating system designed for smartwatches and other wearables. So users will be able to install custom programs through Google Play Store 🤭. <br> And we will sell them for 999.9$ a piece 💰💰💰<br>\n",
    "But our engineers wanted to ensure that only Pear Inc. approved programs can be installed on our t-shirts because\n",
    "market analysis showed that potential customers are afraid of ransomware that will break their \"*premium*\" t-shirts 🤦‍. So we need an antivirus for approving apps on the fly! <br>However, we don't want to install an off the shelf antivirus to our t-shirts 🤫, because BIG profit margins matter 🏦!\n",
    "\n",
    "##### Enough chit-chat!\n",
    "Let's get down to the business of why I contacted you: <br>\n",
    "Our bright engineers came up with an algorithm that creates compressed signatures for the apps in the Google Play Store. It is called '*manifold averaging generally intelligent compressor*' or as we call it 'MAGIC'. <br>\n",
    "The engineers told us that the outputs of MAGIC reflect the statistical properties of the uncompressed apps (whatever that may mean! 🤦‍). <br> MAGIC takes a Google Play Store app as an input and outputs a 4 dimensional numerical signature (they called it a vector but calling it a vector is not fancy enough for marketing! 🤪).   \n",
    "\n",
    "Now, since these signatures are just numbers, an off the shelf antivirus can't work with them (even if it could, we can't install an off the shelf antivirus into our t-shirts -- too much computing power and space is needed). Therefore **we need a light weight proof of concept that takes these signatures as inputs and outputs labels (virus or not) for them.** We eventually want to install your program into our smart t-shirts, where it will scan a Google Play Store app (its signature to be precise!) and stop the app's execution if it thinks the app is a virus! But we are not going so far just yet so you only need to create the pipeline that take the signatures, and output labels for them. Don't worry about the rest, it is just a proof of concept at the end 😉. We are providing the dataset for you to develop your model.\n",
    "\n",
    "In a nutshell: \n",
    "- There 4 dimensional (4 feature) numerical inputs (signatures) with labels!\n",
    "- We need a simple model that takes these inputs and labels them (Virus, Not a Virus)\n",
    "- We also need you to evaluate your model. Choose any metric you want, but don't forget to explain why, since I don't know much about this field (that is why we need your help!)\n",
    "\n",
    "Things to keep in mind:\n",
    "- There are less 'Virus' in the dataset than 'Not a Virus'. (Naturally!)\n",
    "- While we call it MAGIC, it still sometimes doesn't work well 🤦‍, so there are signatures with missing features (missing values).\n",
    "- I don't know much about these things so please show your work, your thinking process and please make it as clear as possible, otherwise I get confused 😵. (Visualizations of the data and comments in your code would be great!)\n",
    "\n",
    "***\n",
    "##### Let me describe the dataset, and you are ready to get to work!\n",
    "\n",
    "It is a CSV file. Each row represents a signature for an app. First 4 columns from left to right represent dimensions (features) and the last column is the label (isVirus: True or False). \n",
    "\n",
    "- Visualize the data (so that people like me can understand!)\n",
    "- Clean up the data (balance it out, impute missing values and so on... depending on the method you are going to use!)\n",
    "- Visualize the cleaned data (so that people like me can understand the effect of cleaning process!)\n",
    "- Create a simple model that performs reasonably well. (If it doesn't perform well, comment on why and how to improve it!)\n",
    "- Evaluate the model with a testset you will create from the dataset. (Pretty plots make things easier to understand)\n",
    "- Upload your code to a private github repo you can share with us, and invite us (https://github.com/tarikkranda, https://github.com/ltc0060 and https://github.com/ahmetkoklu) as collaborators so only we can see our super-secret project. \n",
    "\n",
    "And you are done! (Don't forget to comment, and show your work please 🤓)\n"
   ]
  },
  {
   "cell_type": "markdown",
   "metadata": {},
   "source": [
    "### SOLUTION :\n"
   ]
  },
  {
   "cell_type": "code",
   "execution_count": 1,
   "metadata": {},
   "outputs": [],
   "source": [
    "# Your code here!"
   ]
  }
 ],
 "metadata": {
  "kernelspec": {
   "display_name": "Python 3",
   "language": "python",
   "name": "python3"
  },
  "language_info": {
   "codemirror_mode": {
    "name": "ipython",
    "version": 3
   },
   "file_extension": ".py",
   "mimetype": "text/x-python",
   "name": "python",
   "nbconvert_exporter": "python",
   "pygments_lexer": "ipython3",
   "version": "3.8.3"
  }
 },
 "nbformat": 4,
 "nbformat_minor": 5
}
